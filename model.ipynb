{
 "cells": [
  {
   "cell_type": "code",
   "execution_count": null,
   "id": "78141c98",
   "metadata": {},
   "outputs": [],
   "source": []
  }
 ],
 "metadata": {
  "kernelspec": {
   "display_name": "ML Kernel",
   "language": "python",
   "name": "ml-kernel"
  },
  "language_info": {
   "name": "python",
   "version": "3.10.11"
  }
 },
 "nbformat": 4,
 "nbformat_minor": 5
}
